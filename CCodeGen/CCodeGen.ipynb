{
 "cells": [
  {
   "cell_type": "markdown",
   "metadata": {
    "colab_type": "text",
    "id": "6nwXIlMHokOW"
   },
   "source": [
    "# **C like Code generation with LSTM**\n",
    "\n",
    "In this project we are aiming to produce code which looks like any generic C like program. We know that text is sequential data, i.e. the next character depends on the previous character. As a result we choose one of the many Recurrent cells available in the **tensorflow.keras** module - The LSTM cell.\n",
    "\n",
    "We are going for basic character level text generation. As this level of text generation works better for body of text with less number of different words. C like programs do not have many words when it comes in comparison to texts like novels or poems or other literary data.\n",
    "\n",
    "\n",
    "Let us start by first importing the libraries and taking a look at the data."
   ]
  },
  {
   "cell_type": "code",
   "execution_count": 0,
   "metadata": {
    "colab": {},
    "colab_type": "code",
    "id": "4NCEo-IosFOn"
   },
   "outputs": [],
   "source": [
    "from __future__ import print_function\n",
    "from keras.models import Sequential\n",
    "from keras.layers import Dense, Dropout, LSTM\n",
    "from keras.optimizers import RMSprop, Adam\n",
    "from keras.utils.data_utils import get_file\n",
    "import numpy as np\n",
    "import matplotlib.pyplot as plt\n",
    "import random\n",
    "import sys\n",
    "import io"
   ]
  },
  {
   "cell_type": "markdown",
   "metadata": {
    "colab_type": "text",
    "id": "93Y22qYdqKAm"
   },
   "source": [
    "Now we are going to open our text file, it is UTF-8 encoded. From this file we are going to get our text corpus (body of text). We then find every new character and add it to a list. This list is going to be out character dictionary. \n",
    "\n",
    "The model will get the index of the characters in the character dictionary as an input and it will predict the index of the character which is going to be followed. We thus convert the characters to integers for the model for an easy representation."
   ]
  },
  {
   "cell_type": "code",
   "execution_count": 80,
   "metadata": {
    "colab": {
     "base_uri": "https://localhost:8080/",
     "height": 50
    },
    "colab_type": "code",
    "id": "jjpl6_mCsm-U",
    "outputId": "ddf31611-a880-4f1c-fad4-e74c68cc928d"
   },
   "outputs": [
    {
     "name": "stdout",
     "output_type": "stream",
     "text": [
      "corpus length: 319705\n",
      "total chars: 70\n"
     ]
    }
   ],
   "source": [
    "with io.open(\"/content/final.txt\", encoding='utf-8') as f:\n",
    "    text = f.read().lower()\n",
    "print('corpus length:', len(text))\n",
    "\n",
    "chars = sorted(list(set(text)))\n",
    "print('total chars:', len(chars))\n",
    "char_indices = dict((c, i) for i, c in enumerate(chars))\n",
    "indices_char = dict((i, c) for i, c in enumerate(chars))"
   ]
  },
  {
   "cell_type": "markdown",
   "metadata": {
    "colab_type": "text",
    "id": "EJP_2fq5wryf"
   },
   "source": [
    "**Now we need to vectorize the input and the output.**\n",
    "\n",
    "We start by splitting the text into random segments of a selected maximum length. After we have retrived the sentence we will store the character next to the sentence as the target chracter.\n",
    "\n",
    "Keeping this is mind:\n",
    "1.   The indexes of the characters from the sentences turn into our input vector.\n",
    "2.   The (index of the) character next to our sentence becomes our target y.\n",
    "\n"
   ]
  },
  {
   "cell_type": "code",
   "execution_count": 81,
   "metadata": {
    "colab": {
     "base_uri": "https://localhost:8080/",
     "height": 67
    },
    "colab_type": "code",
    "id": "XHaeeoSwsrPr",
    "outputId": "7b2e6350-5412-42d6-b3df-efbcb17dc385"
   },
   "outputs": [
    {
     "name": "stdout",
     "output_type": "stream",
     "text": [
      "Number of sequences: 79914\n",
      "Vectorization\n",
      "Done\n"
     ]
    }
   ],
   "source": [
    "# cut the text in semi-redundant sequences of maxlen characters\n",
    "maxlen = 50\n",
    "step = 4\n",
    "sentences = []\n",
    "next_chars = []\n",
    "\n",
    "for i in range(0, len(text) - maxlen, step):\n",
    "    sentences.append(text[i: i + maxlen])\n",
    "    next_chars.append(text[i + maxlen])\n",
    "print('Number of sequences:', len(sentences))\n",
    "\n",
    "print('Vectorization')\n",
    "x = np.zeros((len(sentences), maxlen, len(chars)), dtype=np.bool)\n",
    "y = np.zeros((len(sentences), len(chars)), dtype=np.bool)\n",
    "for i, sentence in enumerate(sentences):\n",
    "    for t, char in enumerate(sentence):\n",
    "        x[i, t, char_indices[char]] = 1\n",
    "    y[i, char_indices[next_chars[i]]] = 1\n",
    "print(\"Done\")"
   ]
  },
  {
   "cell_type": "markdown",
   "metadata": {
    "colab_type": "text",
    "id": "LV9sNbR7WfbZ"
   },
   "source": [
    "***LSTMs - A brief.***\n",
    "\n",
    "Recurrent Neural Networks work just fine when we are dealing with short-term dependencies. However, vanilla RNNs fail to understand the context behind an input. The reason behind this is the problem of **Vanishing Gradient**.\n",
    "\n",
    "*What is the vanishing graident problem ?*\n",
    "\n",
    "> As more layers using certain activation functions are added to neural networks, the gradients of the loss function approaches zero, making the network hard to train. For shallow network with only a few layers that use these activations, this isn’t a big problem. However, when more layers are used, it can cause the gradient to be too small for training to work effectively.\n",
    "\n",
    "As a solution to this problem of Vanilla RNNs, LSTM was proposed in 1997 by [Sepp Hochreiter and Jürgen Schmidhuber](http://www.bioinf.jku.at/publications/older/2604.pdf). A common LSTM unit is composed of a cell, an input gate, an output gate and a forget gate. The cell remembers values over arbitrary time intervals and the three gates regulate the flow of information into and out of the cell.\n",
    "\n",
    "Intuitively, the cell is responsible for keeping track of the dependencies between the elements in the input sequence. The input gate controls the extent to which a new value flows into the cell, the forget gate controls the extent to which a value remains in the cell and the output gate controls the extent to which the value in the cell is used to compute the output activation of the LSTM unit. \n",
    "\n",
    "\n",
    "![Basic Structure of LSTM cell - Image from Wikipedia](https://upload.wikimedia.org/wikipedia/commons/3/3b/The_LSTM_cell.png)\n",
    "\n"
   ]
  },
  {
   "cell_type": "markdown",
   "metadata": {
    "colab_type": "text",
    "id": "vrNItjtbyI7z"
   },
   "source": [
    "Now comes the most important part of our endeavour. Creating the Neural Network Model which can learn (or atleast fake) writing a C like program segment.\n",
    "\n",
    "Things to keep in mind:\n",
    "1.   The model consists of two main layers - The LSTM Layer and The Dense connected layer.\n",
    "2.   The LSTM layer gets the vectorized character inputs from the character dictionary and has 128 units.\n",
    "3.   The LSTM layer has an 'ReLU' activation which stands for rectified linear unit and is used to break symmetry in the initial layer of the model.\n",
    "4.   The Dense layer has a softmax output. The softmax activation produces probabilities for the index as output.\n",
    "\n",
    "The Model has been complied with RMSprop optimizer which a standard speedup for gradient descent, and categorical_crossentropy loss which is used when we need to predict probabilites for various categories (in this case the categories are the characters).\n",
    "\n"
   ]
  },
  {
   "cell_type": "code",
   "execution_count": 82,
   "metadata": {
    "colab": {
     "base_uri": "https://localhost:8080/",
     "height": 234
    },
    "colab_type": "code",
    "id": "OGmMETUbsvJZ",
    "outputId": "3a31c2e7-5f26-4944-8775-0b5a6ea991e9"
   },
   "outputs": [
    {
     "name": "stdout",
     "output_type": "stream",
     "text": [
      "Building model\n",
      "Model: \"sequential_9\"\n",
      "_________________________________________________________________\n",
      "Layer (type)                 Output Shape              Param #   \n",
      "=================================================================\n",
      "lstm_9 (LSTM)                (None, 64)                34560     \n",
      "_________________________________________________________________\n",
      "dense_9 (Dense)              (None, 70)                4550      \n",
      "=================================================================\n",
      "Total params: 39,110\n",
      "Trainable params: 39,110\n",
      "Non-trainable params: 0\n",
      "_________________________________________________________________\n"
     ]
    }
   ],
   "source": [
    "# build the model: a single LSTM\n",
    "print('Building model')\n",
    "model = Sequential()\n",
    "model.add(LSTM(64, input_shape=(maxlen, len(chars))))\n",
    "model.add(Dense(len(chars), activation='softmax'))\n",
    "\n",
    "optimizer = RMSprop(lr=0.01)\n",
    "model.compile(loss='categorical_crossentropy', optimizer=optimizer)\n",
    "model.summary()"
   ]
  },
  {
   "cell_type": "markdown",
   "metadata": {
    "colab_type": "text",
    "id": "vBJgw7y2_jk3"
   },
   "source": [
    "**Let us see how the model looks like.**"
   ]
  },
  {
   "cell_type": "code",
   "execution_count": 83,
   "metadata": {
    "colab": {
     "base_uri": "https://localhost:8080/",
     "height": 266
    },
    "colab_type": "code",
    "id": "IMep0yV31VkF",
    "outputId": "9a2dc6f1-3bd1-40c8-93ef-22c686bc02eb"
   },
   "outputs": [
    {
     "data": {
      "image/svg+xml": [
       "<svg height=\"184pt\" viewBox=\"0.00 0.00 332.00 221.00\" width=\"277pt\" xmlns=\"http://www.w3.org/2000/svg\" xmlns:xlink=\"http://www.w3.org/1999/xlink\">\n",
       "<g class=\"graph\" id=\"graph0\" transform=\"scale(.8333 .8333) rotate(0) translate(4 217)\">\n",
       "<title>G</title>\n",
       "<polygon fill=\"#ffffff\" points=\"-4,4 -4,-217 328,-217 328,4 -4,4\" stroke=\"transparent\"/>\n",
       "<!-- 140404104023400 -->\n",
       "<g class=\"node\" id=\"node1\">\n",
       "<title>140404104023400</title>\n",
       "<polygon fill=\"none\" points=\"0,-166.5 0,-212.5 324,-212.5 324,-166.5 0,-166.5\" stroke=\"#000000\"/>\n",
       "<text fill=\"#000000\" font-family=\"Times,serif\" font-size=\"14.00\" text-anchor=\"middle\" x=\"82\" y=\"-185.8\">lstm_9_input: InputLayer</text>\n",
       "<polyline fill=\"none\" points=\"164,-166.5 164,-212.5 \" stroke=\"#000000\"/>\n",
       "<text fill=\"#000000\" font-family=\"Times,serif\" font-size=\"14.00\" text-anchor=\"middle\" x=\"193\" y=\"-197.3\">input:</text>\n",
       "<polyline fill=\"none\" points=\"164,-189.5 222,-189.5 \" stroke=\"#000000\"/>\n",
       "<text fill=\"#000000\" font-family=\"Times,serif\" font-size=\"14.00\" text-anchor=\"middle\" x=\"193\" y=\"-174.3\">output:</text>\n",
       "<polyline fill=\"none\" points=\"222,-166.5 222,-212.5 \" stroke=\"#000000\"/>\n",
       "<text fill=\"#000000\" font-family=\"Times,serif\" font-size=\"14.00\" text-anchor=\"middle\" x=\"273\" y=\"-197.3\">(None, 50, 70)</text>\n",
       "<polyline fill=\"none\" points=\"222,-189.5 324,-189.5 \" stroke=\"#000000\"/>\n",
       "<text fill=\"#000000\" font-family=\"Times,serif\" font-size=\"14.00\" text-anchor=\"middle\" x=\"273\" y=\"-174.3\">(None, 50, 70)</text>\n",
       "</g>\n",
       "<!-- 140404104022896 -->\n",
       "<g class=\"node\" id=\"node2\">\n",
       "<title>140404104022896</title>\n",
       "<polygon fill=\"none\" points=\"31,-83.5 31,-129.5 293,-129.5 293,-83.5 31,-83.5\" stroke=\"#000000\"/>\n",
       "<text fill=\"#000000\" font-family=\"Times,serif\" font-size=\"14.00\" text-anchor=\"middle\" x=\"82\" y=\"-102.8\">lstm_9: LSTM</text>\n",
       "<polyline fill=\"none\" points=\"133,-83.5 133,-129.5 \" stroke=\"#000000\"/>\n",
       "<text fill=\"#000000\" font-family=\"Times,serif\" font-size=\"14.00\" text-anchor=\"middle\" x=\"162\" y=\"-114.3\">input:</text>\n",
       "<polyline fill=\"none\" points=\"133,-106.5 191,-106.5 \" stroke=\"#000000\"/>\n",
       "<text fill=\"#000000\" font-family=\"Times,serif\" font-size=\"14.00\" text-anchor=\"middle\" x=\"162\" y=\"-91.3\">output:</text>\n",
       "<polyline fill=\"none\" points=\"191,-83.5 191,-129.5 \" stroke=\"#000000\"/>\n",
       "<text fill=\"#000000\" font-family=\"Times,serif\" font-size=\"14.00\" text-anchor=\"middle\" x=\"242\" y=\"-114.3\">(None, 50, 70)</text>\n",
       "<polyline fill=\"none\" points=\"191,-106.5 293,-106.5 \" stroke=\"#000000\"/>\n",
       "<text fill=\"#000000\" font-family=\"Times,serif\" font-size=\"14.00\" text-anchor=\"middle\" x=\"242\" y=\"-91.3\">(None, 64)</text>\n",
       "</g>\n",
       "<!-- 140404104023400&#45;&gt;140404104022896 -->\n",
       "<g class=\"edge\" id=\"edge1\">\n",
       "<title>140404104023400-&gt;140404104022896</title>\n",
       "<path d=\"M162,-166.3799C162,-158.1745 162,-148.7679 162,-139.8786\" fill=\"none\" stroke=\"#000000\"/>\n",
       "<polygon fill=\"#000000\" points=\"165.5001,-139.784 162,-129.784 158.5001,-139.784 165.5001,-139.784\" stroke=\"#000000\"/>\n",
       "</g>\n",
       "<!-- 140404104023008 -->\n",
       "<g class=\"node\" id=\"node3\">\n",
       "<title>140404104023008</title>\n",
       "<polygon fill=\"none\" points=\"39.5,-.5 39.5,-46.5 284.5,-46.5 284.5,-.5 39.5,-.5\" stroke=\"#000000\"/>\n",
       "<text fill=\"#000000\" font-family=\"Times,serif\" font-size=\"14.00\" text-anchor=\"middle\" x=\"93\" y=\"-19.8\">dense_9: Dense</text>\n",
       "<polyline fill=\"none\" points=\"146.5,-.5 146.5,-46.5 \" stroke=\"#000000\"/>\n",
       "<text fill=\"#000000\" font-family=\"Times,serif\" font-size=\"14.00\" text-anchor=\"middle\" x=\"175.5\" y=\"-31.3\">input:</text>\n",
       "<polyline fill=\"none\" points=\"146.5,-23.5 204.5,-23.5 \" stroke=\"#000000\"/>\n",
       "<text fill=\"#000000\" font-family=\"Times,serif\" font-size=\"14.00\" text-anchor=\"middle\" x=\"175.5\" y=\"-8.3\">output:</text>\n",
       "<polyline fill=\"none\" points=\"204.5,-.5 204.5,-46.5 \" stroke=\"#000000\"/>\n",
       "<text fill=\"#000000\" font-family=\"Times,serif\" font-size=\"14.00\" text-anchor=\"middle\" x=\"244.5\" y=\"-31.3\">(None, 64)</text>\n",
       "<polyline fill=\"none\" points=\"204.5,-23.5 284.5,-23.5 \" stroke=\"#000000\"/>\n",
       "<text fill=\"#000000\" font-family=\"Times,serif\" font-size=\"14.00\" text-anchor=\"middle\" x=\"244.5\" y=\"-8.3\">(None, 70)</text>\n",
       "</g>\n",
       "<!-- 140404104022896&#45;&gt;140404104023008 -->\n",
       "<g class=\"edge\" id=\"edge2\">\n",
       "<title>140404104022896-&gt;140404104023008</title>\n",
       "<path d=\"M162,-83.3799C162,-75.1745 162,-65.7679 162,-56.8786\" fill=\"none\" stroke=\"#000000\"/>\n",
       "<polygon fill=\"#000000\" points=\"165.5001,-56.784 162,-46.784 158.5001,-56.784 165.5001,-56.784\" stroke=\"#000000\"/>\n",
       "</g>\n",
       "</g>\n",
       "</svg>"
      ],
      "text/plain": [
       "<IPython.core.display.SVG object>"
      ]
     },
     "execution_count": 83,
     "metadata": {
      "tags": []
     },
     "output_type": "execute_result"
    }
   ],
   "source": [
    "from IPython.display import SVG\n",
    "from keras.utils import model_to_dot\n",
    "\n",
    "SVG(model_to_dot(model, show_shapes=True, dpi=60).create(prog='dot', format='svg'))"
   ]
  },
  {
   "cell_type": "markdown",
   "metadata": {
    "colab_type": "text",
    "id": "z6391zq1J9TF"
   },
   "source": [
    "**Now we train our model.**\n",
    "\n",
    "We use the fit() function which takes care of our training. The parameters x and y are the input and corresponding output vectors.\n",
    "\n",
    "Hyperparamters:\n",
    "\n",
    "1.   Batch size = 128\n",
    "2.   Epochs = 50\n",
    "\n",
    "The training history has been saved in a History.history object."
   ]
  },
  {
   "cell_type": "code",
   "execution_count": 84,
   "metadata": {
    "colab": {
     "base_uri": "https://localhost:8080/",
     "height": 33
    },
    "colab_type": "code",
    "id": "HhW4wQRas7AT",
    "outputId": "e1e182d3-10df-4270-ccc5-91a98ef0cab6"
   },
   "outputs": [
    {
     "name": "stdout",
     "output_type": "stream",
     "text": [
      "Training Done.\n"
     ]
    }
   ],
   "source": [
    "history = model.fit(x, y, batch_size=128, epochs=50, verbose = 0)\n",
    "print(\"Training Done.\")"
   ]
  },
  {
   "cell_type": "markdown",
   "metadata": {
    "colab_type": "text",
    "id": "W2YFyIEyLIPg"
   },
   "source": [
    "Now plotting the **loss graph** for the model."
   ]
  },
  {
   "cell_type": "code",
   "execution_count": 85,
   "metadata": {
    "colab": {
     "base_uri": "https://localhost:8080/",
     "height": 295
    },
    "colab_type": "code",
    "id": "5_eldcrhLbHB",
    "outputId": "fc93a5aa-2581-4029-fefb-1783b761f1e2"
   },
   "outputs": [
    {
     "data": {
      "image/png": "[encoded data removed]",
      "text/plain": [
       "<Figure size 432x288 with 1 Axes>"
      ]
     },
     "metadata": {
      "tags": []
     },
     "output_type": "display_data"
    }
   ],
   "source": [
    "plt.plot(history.history['loss'])\n",
    "plt.title('model loss')\n",
    "plt.ylabel('loss')\n",
    "plt.xlabel('epoch')\n",
    "plt.show()"
   ]
  },
  {
   "cell_type": "markdown",
   "metadata": {
    "colab_type": "text",
    "id": "bQ2uKIdrLrc7"
   },
   "source": [
    "Now we generate output using standard **temperature sampling** which is suggested for NLP projects. The temperature paramater decides the diversity of the sampling. The high temperature sample displays greater linguistic variety, but the low temperature sample is more grammatically correct. Lowering the temperature allows you to focus on higher probability output sequences and smooth over deficiencies of the model. The helper function to sample an index from a probability array.\n",
    "\n",
    "The custom_pred function can be given a C-Like code which it can use as the seed for generating sentences which are supposed to look like C code."
   ]
  },
  {
   "cell_type": "code",
   "execution_count": 0,
   "metadata": {
    "colab": {},
    "colab_type": "code",
    "id": "Q02vaaCi-7l3"
   },
   "outputs": [],
   "source": [
    "def sample(preds, temperature=1.0):\n",
    "    preds = np.asarray(preds).astype('float64')\n",
    "    preds = np.log(preds) / temperature\n",
    "    exp_preds = np.exp(preds)\n",
    "    preds = exp_preds / np.sum(exp_preds)\n",
    "    probas = np.random.multinomial(1, preds, 1)\n",
    "    return np.argmax(probas)\n",
    "\n",
    "def custom_pred(s = \"\"):\n",
    "    start_index = random.randint(0, len(text) - maxlen - 1)\n",
    "    for diversity in [0.2, 0.5, 1.0, 1.2]:\n",
    "        print('Diversity:', diversity,\"\\n\")\n",
    "\n",
    "        generated = ''\n",
    "        sentence = text[start_index: start_index + maxlen]\n",
    "        if len(s) != 0:\n",
    "            sentence = s\n",
    "        else:\n",
    "            sentence = text[start_index: start_index + maxlen]\n",
    "        generated += sentence\n",
    "        print('Generating with seed: \"' + sentence + '\"'+\"\\n\")\n",
    "        sys.stdout.write(generated)\n",
    "\n",
    "        for i in range(400):\n",
    "            x_pred = np.zeros((1, maxlen, len(chars)))\n",
    "            for t, char in enumerate(sentence):\n",
    "                x_pred[0, t, char_indices[char]] = 1.\n",
    "\n",
    "            preds = model.predict(x_pred, verbose=0)[0]\n",
    "            next_index = sample(preds, diversity)\n",
    "            next_char = indices_char[next_index]\n",
    "\n",
    "            sentence = sentence[1:] + next_char\n",
    "\n",
    "            sys.stdout.write(next_char)\n",
    "            sys.stdout.flush()\n",
    "        print()"
   ]
  },
  {
   "cell_type": "markdown",
   "metadata": {
    "colab_type": "text",
    "id": "kt1EMTdvPSr4"
   },
   "source": [
    "The following line is a call to the custom_pred function which generates C like code.\n",
    "\n",
    "Moment of truth!"
   ]
  },
  {
   "cell_type": "code",
   "execution_count": 87,
   "metadata": {
    "colab": {
     "base_uri": "https://localhost:8080/",
     "height": 1000
    },
    "colab_type": "code",
    "id": "6NH5J9LLCepI",
    "outputId": "72851ddc-cd53-4cdc-9d4e-961cf440c6bf"
   },
   "outputs": [
    {
     "name": "stdout",
     "output_type": "stream",
     "text": [
      "Diversity: 0.2 \n",
      "\n",
      "Generating with seed: \"y *free;\n",
      "    sdl_syswmentry *wmmsg_used;\n",
      "    sdl_s\"\n",
      "\n",
      "y *free;\n",
      "    sdl_syswmentry *wmmsg_used;\n",
      "    sdl_syswmevent(event);\n",
      "    sdl_syswmevent(event, size_t chunk_olus, sdl_strclllock_tromevents * sdl_strlen;\n",
      "    sdl_event_watchers_lock);\n",
      "    sdl_strlen(m, sdl_touch->couse_watchers[i].dollarte(sdl_strled.hersize);\n",
      "                                                                                                                                                                                              \n",
      "Diversity: 0.5 \n",
      "\n",
      "Generating with seed: \"y *free;\n",
      "    sdl_syswmentry *wmmsg_used;\n",
      "    sdl_s\"\n",
      "\n",
      "y *free;\n",
      "    sdl_syswmentry *wmmsg_used;\n",
      "    sdl_syswmeventche(sdl_windowevent_cos(userdagn);\n",
      "                            assert(int * = (size_t);\n",
      "                                                                                                                                                                                                                                                                                                               \n",
      "Diversity: 1.0 \n",
      "\n",
      "Generating with seed: \"y *free;\n",
      "    sdl_syswmentry *wmmsg_used;\n",
      "    sdl_s\"\n",
      "\n",
      "y *free;\n",
      "    sdl_syswmentry *wmmsg_used;\n",
      "    sdl_sesture(mouse->dollartetp) {\n",
      "        if (4 != 0) {\n",
      "            uint8 *p = (uint8 *) small_size_size\n",
      "#define dwoul|mivefize\n",
      "#define \\\n",
      "             ((m1sthint)- rshut\",\n",
      "          (size_s));\n",
      "#endif\n",
      "#dec pring = small_charnucting_as (m, amaall, smmallbarl.window_moved, nb +; chunk2map) = void *start, smalloce#, *empaicisition\\ndefatigicpive_tyremap(int, sdl_setata(sdl_touch));\n",
      "    sdl_x * 0 0;\n",
      "\n",
      "    ret\n",
      "Diversity: 1.2 \n",
      "\n",
      "Generating with seed: \"y *free;\n",
      "    sdl_syswmentry *wmmsg_used;\n",
      "    sdl_s\"\n",
      "\n",
      "y *free;\n",
      "    sdl_syswmentry *wmmsg_used;\n",
      "    sdl_sys\t{ gi->chunk_size_t_enmal_str2f3,\n",
      "    qs3+338146666  #elsendlingevadhry (w2int) {          por cas_mpy t= smalloc_event(elemente_ad_chunk(!mchint);\n",
      "        orefin\"iath[2] = (tchunkpa,len);\n",
      "        while (sdl_sys_mmmp\tudesre(d, smutcp)), rstart;\n",
      "#endif\n",
      "#_mempa[e)\n",
      "    0, 'f')\n",
      "     \n",
      "    nmouseptcal(x, x);\n",
      "\n",
      "\n",
      "\n",
      "\n",
      "\n",
      "#ifldef swil\n",
      "leans (pta, &8mami, mr,com_sy, int c, os2*);\n",
      "}\n",
      "\n",
      "\n",
      "#include \"sdlatflsf(dionb))\n"
     ]
    }
   ],
   "source": [
    "custom_pred()"
   ]
  },
  {
   "cell_type": "markdown",
   "metadata": {
    "colab_type": "text",
    "id": "qO0xfXCBPjSu"
   },
   "source": [
    "Well, that does look like C code. However under no circumstances can this code be complied. It is beautiful work around for writing C code. However this projects has huge grounds for improvement.\n",
    "\n",
    "Although we can note that with increasing diversity the code gets more unreadable or starts making lesser sense. However we have completed our objective of producing C like code using Keras and a dataset of C programs."
   ]
  },
  {
   "cell_type": "markdown",
   "metadata": {
    "colab_type": "text",
    "id": "mG2OWsH_LvCh"
   },
   "source": [
    "Made by:\n",
    "\n",
    "*   Shayak Chakraborty\n",
    "*   Jayanta Banik\n",
    "*   Shubham Addhya\n",
    "\n",
    "**END OF NOTEBOOK**"
   ]
  }
 ],
 "metadata": {
  "accelerator": "GPU",
  "colab": {
   "collapsed_sections": [],
   "name": "CCodeGen.ipynb",
   "provenance": [],
   "toc_visible": true
  },
  "kernelspec": {
   "display_name": "Python 3",
   "language": "python",
   "name": "python3"
  },
  "language_info": {
   "codemirror_mode": {
    "name": "ipython",
    "version": 3
   },
   "file_extension": ".py",
   "mimetype": "text/x-python",
   "name": "python",
   "nbconvert_exporter": "python",
   "pygments_lexer": "ipython3",
   "version": "3.7.3"
  }
 },
 "nbformat": 4,
 "nbformat_minor": 1
}
